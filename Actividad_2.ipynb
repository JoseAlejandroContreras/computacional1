{
  "nbformat": 4,
  "nbformat_minor": 0,
  "metadata": {
    "colab": {
      "name": "Actividad 2",
      "provenance": [],
      "collapsed_sections": [],
      "authorship_tag": "ABX9TyMebvO5xTqAEdSo6yW5m6mY",
      "include_colab_link": true
    },
    "kernelspec": {
      "name": "python3",
      "display_name": "Python 3"
    }
  },
  "cells": [
    {
      "cell_type": "markdown",
      "metadata": {
        "id": "view-in-github",
        "colab_type": "text"
      },
      "source": [
        "<a href=\"https://colab.research.google.com/github/JoseAlejandroContreras/computacional1/blob/master/Actividad_2.ipynb\" target=\"_parent\"><img src=\"https://colab.research.google.com/assets/colab-badge.svg\" alt=\"Open In Colab\"/></a>"
      ]
    },
    {
      "cell_type": "markdown",
      "metadata": {
        "id": "NJY3iwZkJVAY"
      },
      "source": [
        "Ejercicio 1:"
      ]
    },
    {
      "cell_type": "markdown",
      "metadata": {
        "id": "vKFQPGu4HqaX"
      },
      "source": [
        "Area de un circulo: este programa va a nececitar de la libreria NumPy y le pediremos al usuario que ingrese el valor del radio. Usaremos:      \n",
        " Area de un circulo = 𝜋𝑟2"
      ]
    },
    {
      "cell_type": "code",
      "metadata": {
        "colab": {
          "base_uri": "https://localhost:8080/"
        },
        "id": "1hDrFBZ7IC6t",
        "outputId": "29a80b5b-4a2b-4067-dc12-264eeeb89292"
      },
      "source": [
        "# Metemos la libreria NumPy\n",
        "import numpy as np\n",
        "def area(x):\n",
        "  return np.pi*x**2\n",
        "\n",
        "print(\"Este programa es para calcular la area de un circulo\")\n",
        "print(\"\\nintroduzca el valor del radio del circulo\")\n",
        "r=float(input())\n",
        "a=area(r)\n",
        "print(\"\\nArea = {:.2f}\".format(a))\n"
      ],
      "execution_count": null,
      "outputs": [
        {
          "output_type": "stream",
          "text": [
            "Este programa es para calcular la area de un circulo\n",
            "\n",
            "introduzca el valor del radio del circulo\n",
            "4\n",
            "\n",
            "Area = 50.27\n"
          ],
          "name": "stdout"
        }
      ]
    },
    {
      "cell_type": "markdown",
      "metadata": {
        "id": "v16wFLt7NN-b"
      },
      "source": [
        "Area de un elipse."
      ]
    },
    {
      "cell_type": "code",
      "metadata": {
        "id": "1BoxqyR5NP2S"
      },
      "source": [
        "\n",
        "import numpy as np\n",
        "\n",
        "def area(x,y):\n",
        "  return np.pi*x*y3\n",
        "\n",
        "\n",
        "print(\"En este programa podras calcular el area de un elipse\")\n",
        "print(\"\\nIntroduce el valor de su eje menor y su eje mayor respectivamente:\")\n",
        "h=float(input())\n",
        "k=float(input())\n",
        "a=area(h,k)\n",
        "\n",
        "print(\"\\nArea = {:.2f}\".format(a))"
      ],
      "execution_count": null,
      "outputs": []
    },
    {
      "cell_type": "markdown",
      "metadata": {
        "id": "S69b3mXyxCRh"
      },
      "source": [
        "Volumen de una esfera"
      ]
    },
    {
      "cell_type": "code",
      "metadata": {
        "colab": {
          "base_uri": "https://localhost:8080/"
        },
        "id": "851nWR5CxHdA",
        "outputId": "294fba6a-d3a4-4d58-8242-310774ba659d"
      },
      "source": [
        "import numpy as np\n",
        "def vol(x):\n",
        "  return 4/3*np.pi*x**3\n",
        "print(\"Este programa sirve para calcular el volumen de una esfera\")\n",
        "print(\"\\nIntroduce el radio de la esfera\")\n",
        "r=float(input())\n",
        "v=vol(r)\n",
        "print(\"\\nVolumen = {:.2f}\".format(v))"
      ],
      "execution_count": null,
      "outputs": [
        {
          "output_type": "stream",
          "text": [
            "Este programa sirve para calcular el volumen de un cilindro esférico\n",
            "\n",
            "Introduce el radio de la esfera\n",
            "2\n",
            "\n",
            "Volumen = 33.51\n"
          ],
          "name": "stdout"
        }
      ]
    },
    {
      "cell_type": "markdown",
      "metadata": {
        "id": "kGisDg9V06h9"
      },
      "source": [
        "Volumen de cilindro circular."
      ]
    },
    {
      "cell_type": "code",
      "metadata": {
        "colab": {
          "base_uri": "https://localhost:8080/"
        },
        "id": "hoGLmFqu1ByL",
        "outputId": "574e02c0-3c33-4cf7-8258-e349d11042a6"
      },
      "source": [
        "import numpy as np\n",
        "def vol(x,y):\n",
        "  return np.pi*x**2*y\n",
        "\n",
        "print(\"este codigo te ayudara a sacar el volumen de un cilindro circular\")\n",
        "print(\"\\nIntroduce el radio del cilindro y la altura del mismo respectivamente\")\n",
        "r=int(input())\n",
        "h=int(input())\n",
        "v=vol(r,h)\n",
        "print(\"\\nVolumen = {:.2f}\".format(v))"
      ],
      "execution_count": null,
      "outputs": [
        {
          "output_type": "stream",
          "text": [
            "este codigo te ayudara a sacar el volumen de un cilindro circular\n",
            "\n",
            "Introduce el radio del cilindro y la altura del mismo respectivamente\n",
            "3\n",
            "3\n",
            "\n",
            "Volumen = 84.82\n"
          ],
          "name": "stdout"
        }
      ]
    },
    {
      "cell_type": "markdown",
      "metadata": {
        "id": "0hXSROoWERdx"
      },
      "source": [
        "ejercicio 2"
      ]
    },
    {
      "cell_type": "markdown",
      "metadata": {
        "id": "0lKAhf0CSIU3"
      },
      "source": [
        "En el codigo el usuario introducirá los valores de los coeficientes de una ecuación cuadrática del tipo $$ax^2+bx+c=0$$\r\n",
        " el programa utilizará la formula general\r\n",
        "$$x_{1,2}=\\frac{-b\\pm \\sqrt{b^2-4ac}}{2a} $$\r\n",
        "\r\n"
      ]
    },
    {
      "cell_type": "code",
      "metadata": {
        "colab": {
          "base_uri": "https://localhost:8080/"
        },
        "id": "CsOJNOMLEnJ4",
        "outputId": "f05d5211-58cb-4c91-b6e7-3c1d708dd249"
      },
      "source": [
        "def sol1(x,y,z):\n",
        "  return (-y+(y**2-4*x*z)**(1/2))/(2*x)\n",
        "def sol2(x,y,z):\n",
        "  return (-y-(y**2-4*x*z)**(1/2))/(2*x)\n",
        "print(\"este programa calcula las raices de una funcion cuadratica\")\n",
        "print(\"\\nIntroduce los valores de a,b y c respectivamente de la ecuacion del tipo ax^2+bx+c=0\")\n",
        "a=int(input())\n",
        "b=int(input())\n",
        "c=int(input())\n",
        "x1=sol1(a,b,c)\n",
        "x2=sol2(a,b,c)\n",
        "print(\"j representa los numero imaginarios i\")\n",
        "print(\"\\n solucion 1 \", x1)\n",
        "print(\"\\n solucion 2\", x2)"
      ],
      "execution_count": null,
      "outputs": [
        {
          "output_type": "stream",
          "text": [
            "este programa calcula las raices de una funcion cuadratica\n",
            "\n",
            "Introduce los valores de a,b y c respectivamente de la ecuacion del tipo ax^2+bx+c=0\n",
            "2\n",
            "3\n",
            "3\n",
            "j representa los numero imaginarios i\n",
            "\n",
            " solucion 1  (-0.7499999999999999+0.9682458365518543j)\n",
            "\n",
            " solucion 2 (-0.7500000000000001-0.9682458365518543j)\n"
          ],
          "name": "stdout"
        }
      ]
    },
    {
      "cell_type": "markdown",
      "metadata": {
        "id": "HBmEMFv_HFmG"
      },
      "source": [
        "Ejercicio 3:\n",
        "Implementar el método Babilonio (o Método de Herón), para calcular la raíz cuadrada de un número S, cuando la sucesión converja con un error menor a 0.01. Compare con el valor obtenido por el método Babilonio con el valor de la función np.sqrt(S).\n",
        "\n",
        " $$x_0 \\approx \\sqrt{S} $$\n",
        "\n",
        "$$x_{n+1}=\\frac{1}{2}\\left( x_n + \\frac{S}{x_n}\\right) $$\n",
        "\n",
        "$$ \\lim_{x\\to\\infty} x_n $$"
      ]
    },
    {
      "cell_type": "code",
      "metadata": {
        "colab": {
          "base_uri": "https://localhost:8080/"
        },
        "id": "0WUNUtJ8HgRz",
        "outputId": "75b0eded-da2e-4647-a1fe-c6f5bbc4e3fa"
      },
      "source": [
        "import numpy as np\n",
        "print(\"buenas soy un codigo para encontrar raices cuadradas introduce un numero positivo\")\n",
        "S=int(input())\n",
        "if S<0:\n",
        "  print(\"\\n El numero que introdujiste no es positivo vuelve a intentar\")\n",
        "    \n",
        "    \n",
        "else:\n",
        "    x_n1=1\n",
        "    e=1\n",
        "    i=0\n",
        "    while np.absolute(np.sqrt(S)-x_n1) > 0.01: \n",
        "      i=i+1\n",
        "      x_n=x_n1\n",
        "      x_n1=(1/2.)*(x_n+S/x_n)\n",
        "      print(i, x_n1)\n",
        "      print(\"\\nResultado:\", x_n1)\n",
        "      print(\"error comparado con la raíz obtenida con numpy\",np.absolute(np.sqrt(S)-x_n1))\n"
      ],
      "execution_count": null,
      "outputs": [
        {
          "output_type": "stream",
          "text": [
            "buenas soy un codigo para encontrar raices cuadradas introduce un numero positivo\n",
            "3\n",
            "1 2.0\n",
            "\n",
            "Resultado: 2.0\n",
            "error comparado con la raíz obtenida con numpy 0.2679491924311228\n",
            "2 1.75\n",
            "\n",
            "Resultado: 1.75\n",
            "error comparado con la raíz obtenida con numpy 0.017949192431122807\n",
            "3 1.7321428571428572\n",
            "\n",
            "Resultado: 1.7321428571428572\n",
            "error comparado con la raíz obtenida con numpy 9.204957398001312e-05\n"
          ],
          "name": "stdout"
        }
      ]
    },
    {
      "cell_type": "markdown",
      "metadata": {
        "id": "0MGcS-G6ffW_"
      },
      "source": [
        "Ejercicio 4:"
      ]
    },
    {
      "cell_type": "code",
      "metadata": {
        "colab": {
          "base_uri": "https://localhost:8080/",
          "height": 295
        },
        "id": "EEBLHt2Kfviw",
        "outputId": "153d4cb3-3318-4a3f-eda8-7d0c4153c5cf"
      },
      "source": [
        "import matplotlib.pyplot as plt\n",
        "\n",
        "x = np.linspace(-np.pi,np.pi,75)  \n",
        "y = np.sin(x)    \n",
        "y1 = x\n",
        "\n",
        "y3 = x**3\n",
        "\n",
        "y5 = x**5\n",
        "\n",
        "sT = y1 - y3/6 + y5/120 \n",
        " \n",
        "\n",
        "\n",
        "plt.subplot(111)\n",
        "\n",
        "plt.xlabel(\"X label\")\n",
        "\n",
        "plt.ylabel(\"Y label\")\n",
        "\n",
        "plt.title(\"Title\")\n",
        "\n",
        "\n",
        "plt.plot(x,y, label=\"sin(x)\")\n",
        "\n",
        "plt.plot(x,y1, label='x')\n",
        "\n",
        "plt.plot(x,sT, label='Serie Taylor Orden 5')\n",
        "\n",
        "\n",
        "plt.grid(True)\n",
        "\n",
        "\n",
        "plt.ylim(-1.5, 1.5)\n",
        "\n",
        "plt.legend(bbox_to_anchor=(1,1), loc=\"upper left\")\n",
        "\n",
        "plt.show()\n",
        "\n"
      ],
      "execution_count": null,
      "outputs": [
        {
          "output_type": "display_data",
          "data": {
            "image/png": "[encoded data removed]",
            "text/plain": [
              "<Figure size 432x288 with 1 Axes>"
            ]
          },
          "metadata": {
            "tags": [],
            "needs_background": "light"
          }
        }
      ]
    }
  ]
}